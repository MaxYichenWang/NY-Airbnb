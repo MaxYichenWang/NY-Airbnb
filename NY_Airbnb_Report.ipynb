{
 "cells": [
  {
   "cell_type": "markdown",
   "metadata": {},
   "source": [
    "# New York City: Data Analytics of Venues and Airbnb Postings "
   ]
  },
  {
   "cell_type": "markdown",
   "metadata": {},
   "source": [
    "## Yichen Wang"
   ]
  },
  {
   "cell_type": "markdown",
   "metadata": {},
   "source": [
    "## Table of Contents\n",
    "    \n",
    "1. [Introduction](#intro)\n",
    "\n",
    "2. [Data Source](#DataSource)\n",
    "\n",
    "3. [Methods](#Methods)\n"
   ]
  },
  {
   "cell_type": "markdown",
   "metadata": {},
   "source": [
    "## Introduction <a name=\"intro\"></a>"
   ]
  },
  {
   "cell_type": "markdown",
   "metadata": {},
   "source": [
    "New York City has been one of the most popular destinations for tourists from all over the world for centuries. Because NYC is a melting pot of American culture, there is always something for every style, taste and budget.  With more than 40 million people visitors coming to NYC each year, it is important to do some research to decide where to staty.\n",
    "\n",
    "NYC is also the most populated and most diverse city in the U.S. with more than 8 million residents coming from every corner of the world. Airbnb provides a new way for tourists to book their room in NYC while residents can make extra money by posing their spare rooms online. Airbnb becomes an increasingly popular choice for travelers rather than traditional hotels.\n",
    "\n",
    "People can choose from entire home/apartment, private room, and shared room depending on the budget. Rooms spreads over every corner of NYC, from the downtown Manhattan to Rockaway Beach that people can choose where they want to stay.\n",
    "\n",
    "This project will provide information on what to eat/see/do in each neighbouhood, and location/price/types of Airbnb postings. It will help tourists to decide which neighbourhood is the best choice to stay for their trip.\n"
   ]
  },
  {
   "cell_type": "markdown",
   "metadata": {},
   "source": [
    "## Data Source <a name=\"DataSource\"></a>"
   ]
  },
  {
   "cell_type": "markdown",
   "metadata": {},
   "source": [
    "Airbnb data describes the listing activity and metrics in NYC, NY for 2019 (https://www.kaggle.com/dgomonov/new-york-city-airbnb-open-data). The dataset includes infomation of hosts, room types, prices, location, and reviews of each posting. \n",
    "\n",
    "Based on the location, rooms can be grouped by neighbourhoods or boroughs, then types, prices, reviews data can be analyzed through the calculation and visualization. The number of review and price can be predicted by applying regression machine learning models. \n",
    "\n",
    "The venues in each neighbourhood can be obtained using Foursqaure API, which includs name, location, and category. Neighbourhoods can be clustered based on the frequency and variety of venues. The labels can used to help cluster Airbnb rooms and predict prices and reviews. "
   ]
  },
  {
   "cell_type": "markdown",
   "metadata": {},
   "source": [
    "## Methods <a name=\"Methods\"></a>"
   ]
  },
  {
   "cell_type": "markdown",
   "metadata": {},
   "source": []
  },
  {
   "cell_type": "code",
   "execution_count": null,
   "metadata": {},
   "outputs": [],
   "source": []
  }
 ],
 "metadata": {
  "kernelspec": {
   "display_name": "Python 3",
   "language": "python",
   "name": "python3"
  },
  "language_info": {
   "codemirror_mode": {
    "name": "ipython",
    "version": 3
   },
   "file_extension": ".py",
   "mimetype": "text/x-python",
   "name": "python",
   "nbconvert_exporter": "python",
   "pygments_lexer": "ipython3",
   "version": "3.7.4"
  }
 },
 "nbformat": 4,
 "nbformat_minor": 4
}
