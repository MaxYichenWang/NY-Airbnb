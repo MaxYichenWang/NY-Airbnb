{
 "cells": [
  {
   "cell_type": "markdown",
   "metadata": {},
   "source": [
    "# New York City: Data Analytics of Venues and Airbnb Postings "
   ]
  },
  {
   "cell_type": "markdown",
   "metadata": {},
   "source": [
    "### Yichen Wang"
   ]
  },
  {
   "cell_type": "markdown",
   "metadata": {},
   "source": [
    " "
   ]
  },
  {
   "cell_type": "markdown",
   "metadata": {},
   "source": [
    "## Table of Contents\n",
    "    \n",
    "1. [Introduction](#intro)\n",
    "\n",
    "2. [Data Source](#DataSource)\n",
    "\n",
    "3. [Methods](#Methods)\n",
    "   \n",
    "   3.1 [Airbnb Data](#Airbnb)\n",
    "   \n",
    "   3.2 [Foursquare Data](#Foursquare)\n",
    "    \n",
    "   3.2 [Guide and Recommendations for Tourists](#Tourists)\n",
    "   \n",
    "4. [Results and Discussions](#Results)\n",
    "   \n",
    "   4.1 [Airbnb - Number](#Number)\n",
    "   \n",
    "   4.2 [Airbnb - Price](#Price)\n",
    "   \n",
    "   4.3 [Airbnb - Review](#Review)\n",
    "   \n",
    "   4.4 [Airbnb - Prediction](#Prediction)\n",
    "   \n",
    "   4.5 [Foursquare - Clustering](#Clustering)\n",
    "   \n",
    "   4.6 [Foursquare - Category](#Category)\n",
    "   "
   ]
  },
  {
   "cell_type": "markdown",
   "metadata": {
    "jupyter": {
     "source_hidden": true
    }
   },
   "source": [
    "## 1. Introduction <a name=\"intro\"></a>"
   ]
  },
  {
   "cell_type": "markdown",
   "metadata": {
    "jupyter": {
     "source_hidden": true
    }
   },
   "source": [
    "New York City has been one of the most popular destinations for tourists from all over the world for centuries. Because NYC is a melting pot of American culture, there is always something for every style, taste and budget.  With more than 40 million people visitors coming to NYC each year, it is important to do some research to decide where to staty.\n",
    "\n",
    "NYC is also the most populated and most diverse city in the U.S. with more than 8 million residents coming from every corner of the world. Airbnb provides a new way for tourists to book their room in NYC while residents can make extra money by posing their spare rooms online. Airbnb becomes an increasingly popular choice for travelers rather than traditional hotels.\n",
    "\n",
    "People can choose from entire home/apartment, private room, and shared room depending on the budget. Rooms spreads over every corner of NYC, from the downtown Manhattan to Rockaway Beach that people can choose where they want to stay.\n",
    "\n",
    "This project will provide information on what to eat/see/do in each neighbouhood, and location/price/types of Airbnb postings. It will help tourists to decide which neighbourhood is the best choice to stay for their trip.\n"
   ]
  },
  {
   "cell_type": "markdown",
   "metadata": {
    "jupyter": {
     "source_hidden": true
    }
   },
   "source": [
    "## 2. Data Source <a name=\"DataSource\"></a>"
   ]
  },
  {
   "cell_type": "markdown",
   "metadata": {
    "jupyter": {
     "source_hidden": true
    }
   },
   "source": [
    "Airbnb data describes the listing activity and metrics in NYC, NY for 2019 (https://www.kaggle.com/dgomonov/new-york-city-airbnb-open-data). The dataset includes infomation of hosts, room types, prices, location, and reviews of each posting. \n",
    "\n",
    "Based on the location, rooms can be grouped by neighbourhoods or boroughs, then types, prices, reviews data can be analyzed through the calculation and visualization. The number of review and price can be predicted by applying regression machine learning models. \n",
    "\n",
    "The venues in each neighbourhood can be obtained using Foursqaure API, which includs name, location, and category. Neighbourhoods can be clustered based on the frequency and variety of venues. The labels can used to help cluster Airbnb rooms and predict prices and reviews. "
   ]
  },
  {
   "cell_type": "markdown",
   "metadata": {
    "jupyter": {
     "source_hidden": true
    }
   },
   "source": [
    "## 3. Methods: Data Cleaning, Analysis and Visulization <a name=\"Methods\"></a>"
   ]
  },
  {
   "cell_type": "markdown",
   "metadata": {
    "jupyter": {
     "source_hidden": true
    }
   },
   "source": [
    "### 3.1 Airbnb Data <a name=\"Airbnb\"></a>"
   ]
  },
  {
   "cell_type": "markdown",
   "metadata": {
    "jupyter": {
     "source_hidden": true
    }
   },
   "source": [
    "Airbnb postings of New Yrok City were read from a csv file and save into a dataframe 'airbnb'. It contains the information of each posting such as name, host, location, price, room type, reviews, etc. It has 48895 postings and 16 features. \n",
    "\n",
    "To begin with, all postings with zero or null value of price, which are regarded as invalid, will be dropped off. After cleaning, 48884 postings were left for future analysis. \n",
    "\n",
    "Postings were then divided into different neighbouhoods based on their locations and were saved into a dataframe 'neighbourhood'. The geographical coordinates of each neighbourhood can be obtained by using Google api. Along with geographical coordinates of each posting, a heatmap showing the density of Airbnb rooms in New York City can be generated by using 'folium'. The markers are names of neighbourhoods and numbers of postings. The top 20 neighbourhood with most and least postings were bar plotted and labeled by borough. The share and number of rooms in each borough were also plotted. \n",
    "\n",
    "The maximum, minimum, average and median price and review of postings in each neighbourhood can be calculated and added into the dataframe 'neighbourhood'. The top 20 most expensive and cheapest neighbourhoods were plotted and labeled by borough. Neighbourhood price distritbution of each borough were also plotted. The distribution of all reviews were obtained and divided into four groups based on the number of reviews. The top 20 most and least reviewed neighbourhoods were plotted and labeled by borough.\n",
    "\n",
    "Based on the price, by apply K-Means clustering unsupervised machine learning model, neighbourhoods were divided into 5 clusters. Labeled neighbourhood were displayed on the map of New York City with differetn colors. Similarly, clustering was conducted on the neighbourhoods based on the reviews data and subsequently displayed on the map. \n",
    "\n",
    "By using the data of location, room type, minimum nights, reviews and availability, regression machine learning models were applied to predict the price of a posted Airbnb room. "
   ]
  },
  {
   "cell_type": "markdown",
   "metadata": {
    "jupyter": {
     "source_hidden": true
    }
   },
   "source": [
    "### 3.2 Foursquare Data <a name=\"Foursquare\"></a>"
   ]
  },
  {
   "cell_type": "markdown",
   "metadata": {
    "jupyter": {
     "source_hidden": true
    }
   },
   "source": [
    "Nearby venues data of each neighbourhood in New York City were obtained using Foursquare API and saved as 'NY_venues.csv'. The info includes the venue's name, location, and category. The heatmap of density of venues were displayed on the map of New York City. The markers are names of neighbourhoods. In total 22077 venues were obtained with 341 different venue categories. \n",
    "\n",
    "The fequency of each venue category in a neighbourhood was calculated. Based on the frequency data, K-Means clustering machine learning model was applied to divide neighbourhoods into different groups. Labeled neighbourhoods were displayed on the map of New York City with different colors.\n",
    "\n",
    "The venue category was also ranked based on its frequency in each neighbourhood. A defined parameter 'Score' was introduced and used to find most common venue categories in a given labeled neighbourhood group. Top 8 highest scored categories were plotted in different groups. "
   ]
  },
  {
   "cell_type": "markdown",
   "metadata": {
    "jupyter": {
     "source_hidden": true
    }
   },
   "source": [
    "### 3.3 Guide and Recommendations for Tourists <a name=\"Tourists\"></a>"
   ]
  },
  {
   "cell_type": "markdown",
   "metadata": {
    "jupyter": {
     "source_hidden": true
    }
   },
   "source": [
    "The overall analysis and visualization of Airbnb data gave tourists some guide and recommendations on where to stay during their visits, and results from Foursquare data could tell tourists what to eat/see/do in the nearby neighbourhoods."
   ]
  },
  {
   "cell_type": "markdown",
   "metadata": {},
   "source": [
    "## 4. Results and Discussions <a name=\"Results\"></a>"
   ]
  },
  {
   "cell_type": "markdown",
   "metadata": {},
   "source": [
    "### 4.1 Airbnb - Number <a name=\"Number\"></a>"
   ]
  },
  {
   "cell_type": "markdown",
   "metadata": {},
   "source": [
    "Airbnb "
   ]
  },
  {
   "cell_type": "markdown",
   "metadata": {},
   "source": [
    "### 4.2 Airbnb - Price <a name=\"Price\"></a>"
   ]
  },
  {
   "cell_type": "markdown",
   "metadata": {},
   "source": [
    "Airbnb \n"
   ]
  },
  {
   "cell_type": "markdown",
   "metadata": {},
   "source": [
    "### 4.3 Airbnb - Review <a name=\"Review\"></a>"
   ]
  },
  {
   "cell_type": "markdown",
   "metadata": {},
   "source": [
    "Airbnb \n"
   ]
  },
  {
   "cell_type": "markdown",
   "metadata": {},
   "source": [
    "### 4.4 Airbnb - Price Prediction <a name=\"Prediction\"></a>"
   ]
  },
  {
   "cell_type": "markdown",
   "metadata": {},
   "source": [
    "Airbnb \n"
   ]
  },
  {
   "cell_type": "markdown",
   "metadata": {},
   "source": [
    "### 4.5 Foursquare - Clustering <a name=\"Clustering\"></a>"
   ]
  },
  {
   "cell_type": "markdown",
   "metadata": {},
   "source": [
    "Airbnb \n"
   ]
  },
  {
   "cell_type": "markdown",
   "metadata": {},
   "source": [
    "### 4.6 Foursquare - Category <a name=\"Category\"></a>"
   ]
  },
  {
   "cell_type": "markdown",
   "metadata": {},
   "source": [
    "Airbnb \n"
   ]
  },
  {
   "cell_type": "markdown",
   "metadata": {},
   "source": [
    "## 5. Conclusions <a name=\"Conclusions\"></a>"
   ]
  },
  {
   "cell_type": "markdown",
   "metadata": {},
   "source": [
    "Airbnb "
   ]
  },
  {
   "cell_type": "code",
   "execution_count": null,
   "metadata": {},
   "outputs": [],
   "source": []
  }
 ],
 "metadata": {
  "kernelspec": {
   "display_name": "Python 3",
   "language": "python",
   "name": "python3"
  },
  "language_info": {
   "codemirror_mode": {
    "name": "ipython",
    "version": 3
   },
   "file_extension": ".py",
   "mimetype": "text/x-python",
   "name": "python",
   "nbconvert_exporter": "python",
   "pygments_lexer": "ipython3",
   "version": "3.7.4"
  }
 },
 "nbformat": 4,
 "nbformat_minor": 4
}
